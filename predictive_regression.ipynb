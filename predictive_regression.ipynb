{
 "cells": [
  {
   "cell_type": "code",
   "execution_count": 1,
   "metadata": {},
   "outputs": [],
   "source": [
    "import pandas as pd\n",
    "import numpy as np\n",
    "\n",
    "import matplotlib.pyplot as plt\n",
    "import seaborn as sns\n",
    "\n",
    "from sklearn.model_selection import train_test_split, cross_val_score\n",
    "from sklearn.preprocessing import OneHotEncoder\n",
    "from sklearn.linear_model import LinearRegression\n",
    "from sklearn.ensemble import RandomForestRegressor"
   ]
  },
  {
   "cell_type": "markdown",
   "metadata": {},
   "source": [
    "# Predictive Regression Modeling Workflow\n",
    "\n",
    "## Students Will Be Able To\n",
    " - Understand the basic outline of a predictive modeling workflow\n",
    " - Describe the similarities and differences between this predictive regression workflow and the previous (Mod 2) inferential regression workflow\n",
    "\n",
    "## Business Understanding and Data Understanding\n",
    "\n",
    "This dataset was downloaded from [Kaggle](https://www.kaggle.com/nehalbirla/vehicle-dataset-from-cardekho) and contains information about **used car sale listings**.  We are trying to **predict the price** associated with the listing.\n",
    "\n",
    "### Features (as described on Kaggle)\n",
    " - `Car_Name`: The name of the car\n",
    " - `Year`: The year in which the car was bought\n",
    " - `Selling_Price`: The price the owner wants to sell the car at\n",
    " - `Present_Price`: The current ex-showroom price of the car\n",
    " - `Kms_Driven`: The distance completed by the car in km\n",
    " - `Fuel_Type`: The fuel type of the car (`Petrol`, `Diesel`, or Other)\n",
    " - `Seller_Type`: Whether the seller is a dealer or an individual\n",
    " - `Transmission`: Whether the car is manual or automatic\n",
    " - `Owner`: The number of owners the car has previously had\n",
    "\n",
    "Looking at the original website, it looks like the prices are listed in lakhs, meaning hundreds of thousands of rupees."
   ]
  },
  {
   "cell_type": "code",
   "execution_count": 2,
   "metadata": {},
   "outputs": [],
   "source": [
    "df = pd.read_csv(\"cars.csv\")"
   ]
  },
  {
   "cell_type": "code",
   "execution_count": 3,
   "metadata": {},
   "outputs": [
    {
     "data": {
      "text/html": [
       "<div>\n",
       "<style scoped>\n",
       "    .dataframe tbody tr th:only-of-type {\n",
       "        vertical-align: middle;\n",
       "    }\n",
       "\n",
       "    .dataframe tbody tr th {\n",
       "        vertical-align: top;\n",
       "    }\n",
       "\n",
       "    .dataframe thead th {\n",
       "        text-align: right;\n",
       "    }\n",
       "</style>\n",
       "<table border=\"1\" class=\"dataframe\">\n",
       "  <thead>\n",
       "    <tr style=\"text-align: right;\">\n",
       "      <th></th>\n",
       "      <th>Car_Name</th>\n",
       "      <th>Year</th>\n",
       "      <th>Selling_Price</th>\n",
       "      <th>Present_Price</th>\n",
       "      <th>Kms_Driven</th>\n",
       "      <th>Fuel_Type</th>\n",
       "      <th>Seller_Type</th>\n",
       "      <th>Transmission</th>\n",
       "      <th>Owner</th>\n",
       "    </tr>\n",
       "  </thead>\n",
       "  <tbody>\n",
       "    <tr>\n",
       "      <th>0</th>\n",
       "      <td>ritz</td>\n",
       "      <td>2014</td>\n",
       "      <td>3.35</td>\n",
       "      <td>5.59</td>\n",
       "      <td>27000</td>\n",
       "      <td>Petrol</td>\n",
       "      <td>Dealer</td>\n",
       "      <td>Manual</td>\n",
       "      <td>0</td>\n",
       "    </tr>\n",
       "    <tr>\n",
       "      <th>1</th>\n",
       "      <td>sx4</td>\n",
       "      <td>2013</td>\n",
       "      <td>4.75</td>\n",
       "      <td>9.54</td>\n",
       "      <td>43000</td>\n",
       "      <td>Diesel</td>\n",
       "      <td>Dealer</td>\n",
       "      <td>Manual</td>\n",
       "      <td>0</td>\n",
       "    </tr>\n",
       "    <tr>\n",
       "      <th>2</th>\n",
       "      <td>ciaz</td>\n",
       "      <td>2017</td>\n",
       "      <td>7.25</td>\n",
       "      <td>9.85</td>\n",
       "      <td>6900</td>\n",
       "      <td>Petrol</td>\n",
       "      <td>Dealer</td>\n",
       "      <td>Manual</td>\n",
       "      <td>0</td>\n",
       "    </tr>\n",
       "    <tr>\n",
       "      <th>3</th>\n",
       "      <td>wagon r</td>\n",
       "      <td>2011</td>\n",
       "      <td>2.85</td>\n",
       "      <td>4.15</td>\n",
       "      <td>5200</td>\n",
       "      <td>Petrol</td>\n",
       "      <td>Dealer</td>\n",
       "      <td>Manual</td>\n",
       "      <td>0</td>\n",
       "    </tr>\n",
       "    <tr>\n",
       "      <th>4</th>\n",
       "      <td>swift</td>\n",
       "      <td>2014</td>\n",
       "      <td>4.60</td>\n",
       "      <td>6.87</td>\n",
       "      <td>42450</td>\n",
       "      <td>Diesel</td>\n",
       "      <td>Dealer</td>\n",
       "      <td>Manual</td>\n",
       "      <td>0</td>\n",
       "    </tr>\n",
       "  </tbody>\n",
       "</table>\n",
       "</div>"
      ],
      "text/plain": [
       "  Car_Name  Year  Selling_Price  Present_Price  Kms_Driven Fuel_Type  \\\n",
       "0     ritz  2014           3.35           5.59       27000    Petrol   \n",
       "1      sx4  2013           4.75           9.54       43000    Diesel   \n",
       "2     ciaz  2017           7.25           9.85        6900    Petrol   \n",
       "3  wagon r  2011           2.85           4.15        5200    Petrol   \n",
       "4    swift  2014           4.60           6.87       42450    Diesel   \n",
       "\n",
       "  Seller_Type Transmission  Owner  \n",
       "0      Dealer       Manual      0  \n",
       "1      Dealer       Manual      0  \n",
       "2      Dealer       Manual      0  \n",
       "3      Dealer       Manual      0  \n",
       "4      Dealer       Manual      0  "
      ]
     },
     "execution_count": 3,
     "metadata": {},
     "output_type": "execute_result"
    }
   ],
   "source": [
    "df.head()"
   ]
  },
  {
   "cell_type": "code",
   "execution_count": 4,
   "metadata": {},
   "outputs": [
    {
     "data": {
      "text/html": [
       "<div>\n",
       "<style scoped>\n",
       "    .dataframe tbody tr th:only-of-type {\n",
       "        vertical-align: middle;\n",
       "    }\n",
       "\n",
       "    .dataframe tbody tr th {\n",
       "        vertical-align: top;\n",
       "    }\n",
       "\n",
       "    .dataframe thead th {\n",
       "        text-align: right;\n",
       "    }\n",
       "</style>\n",
       "<table border=\"1\" class=\"dataframe\">\n",
       "  <thead>\n",
       "    <tr style=\"text-align: right;\">\n",
       "      <th></th>\n",
       "      <th>Year</th>\n",
       "      <th>Selling_Price</th>\n",
       "      <th>Present_Price</th>\n",
       "      <th>Kms_Driven</th>\n",
       "      <th>Owner</th>\n",
       "    </tr>\n",
       "  </thead>\n",
       "  <tbody>\n",
       "    <tr>\n",
       "      <th>count</th>\n",
       "      <td>301.000000</td>\n",
       "      <td>301.000000</td>\n",
       "      <td>301.000000</td>\n",
       "      <td>301.000000</td>\n",
       "      <td>301.000000</td>\n",
       "    </tr>\n",
       "    <tr>\n",
       "      <th>mean</th>\n",
       "      <td>2013.627907</td>\n",
       "      <td>4.661296</td>\n",
       "      <td>7.628472</td>\n",
       "      <td>36947.205980</td>\n",
       "      <td>0.043189</td>\n",
       "    </tr>\n",
       "    <tr>\n",
       "      <th>std</th>\n",
       "      <td>2.891554</td>\n",
       "      <td>5.082812</td>\n",
       "      <td>8.644115</td>\n",
       "      <td>38886.883882</td>\n",
       "      <td>0.247915</td>\n",
       "    </tr>\n",
       "    <tr>\n",
       "      <th>min</th>\n",
       "      <td>2003.000000</td>\n",
       "      <td>0.100000</td>\n",
       "      <td>0.320000</td>\n",
       "      <td>500.000000</td>\n",
       "      <td>0.000000</td>\n",
       "    </tr>\n",
       "    <tr>\n",
       "      <th>25%</th>\n",
       "      <td>2012.000000</td>\n",
       "      <td>0.900000</td>\n",
       "      <td>1.200000</td>\n",
       "      <td>15000.000000</td>\n",
       "      <td>0.000000</td>\n",
       "    </tr>\n",
       "    <tr>\n",
       "      <th>50%</th>\n",
       "      <td>2014.000000</td>\n",
       "      <td>3.600000</td>\n",
       "      <td>6.400000</td>\n",
       "      <td>32000.000000</td>\n",
       "      <td>0.000000</td>\n",
       "    </tr>\n",
       "    <tr>\n",
       "      <th>75%</th>\n",
       "      <td>2016.000000</td>\n",
       "      <td>6.000000</td>\n",
       "      <td>9.900000</td>\n",
       "      <td>48767.000000</td>\n",
       "      <td>0.000000</td>\n",
       "    </tr>\n",
       "    <tr>\n",
       "      <th>max</th>\n",
       "      <td>2018.000000</td>\n",
       "      <td>35.000000</td>\n",
       "      <td>92.600000</td>\n",
       "      <td>500000.000000</td>\n",
       "      <td>3.000000</td>\n",
       "    </tr>\n",
       "  </tbody>\n",
       "</table>\n",
       "</div>"
      ],
      "text/plain": [
       "              Year  Selling_Price  Present_Price     Kms_Driven       Owner\n",
       "count   301.000000     301.000000     301.000000     301.000000  301.000000\n",
       "mean   2013.627907       4.661296       7.628472   36947.205980    0.043189\n",
       "std       2.891554       5.082812       8.644115   38886.883882    0.247915\n",
       "min    2003.000000       0.100000       0.320000     500.000000    0.000000\n",
       "25%    2012.000000       0.900000       1.200000   15000.000000    0.000000\n",
       "50%    2014.000000       3.600000       6.400000   32000.000000    0.000000\n",
       "75%    2016.000000       6.000000       9.900000   48767.000000    0.000000\n",
       "max    2018.000000      35.000000      92.600000  500000.000000    3.000000"
      ]
     },
     "execution_count": 4,
     "metadata": {},
     "output_type": "execute_result"
    }
   ],
   "source": [
    "df.describe()"
   ]
  },
  {
   "cell_type": "code",
   "execution_count": 5,
   "metadata": {},
   "outputs": [
    {
     "data": {
      "text/plain": [
       "Car_Name         0\n",
       "Year             0\n",
       "Selling_Price    0\n",
       "Present_Price    0\n",
       "Kms_Driven       0\n",
       "Fuel_Type        0\n",
       "Seller_Type      0\n",
       "Transmission     0\n",
       "Owner            0\n",
       "dtype: int64"
      ]
     },
     "execution_count": 5,
     "metadata": {},
     "output_type": "execute_result"
    }
   ],
   "source": [
    "df.isna().sum()"
   ]
  },
  {
   "cell_type": "code",
   "execution_count": 6,
   "metadata": {},
   "outputs": [
    {
     "data": {
      "image/png": "[encoded data removed]",
      "text/plain": [
       "<Figure size 900x900 with 30 Axes>"
      ]
     },
     "metadata": {
      "needs_background": "light"
     },
     "output_type": "display_data"
    }
   ],
   "source": [
    "sns.pairplot(df);"
   ]
  },
  {
   "cell_type": "markdown",
   "metadata": {},
   "source": [
    "### *Compare and Contrast: Business Understanding and Data Understanding*\n",
    "\n",
    "What (if anything) was similar between this process and the previous process?  What (if anything) was different?"
   ]
  },
  {
   "cell_type": "code",
   "execution_count": null,
   "metadata": {},
   "outputs": [],
   "source": [
    "\"\"\"\n",
    "Looking for features to add to the model (correlation with target)\n",
    "\n",
    "Building a model that has a target (y), has features (X)\n",
    "\n",
    "Not starting with a question, we're just trying to predict the target\n",
    "\"\"\""
   ]
  },
  {
   "cell_type": "markdown",
   "metadata": {},
   "source": [
    "## Train-Test Split\n",
    "\n",
    "Before performing any preprocessing or modeling, set aside a holdout test set"
   ]
  },
  {
   "cell_type": "code",
   "execution_count": 7,
   "metadata": {},
   "outputs": [],
   "source": [
    "X = df.drop(\"Selling_Price\", axis=1)\n",
    "y = df[\"Selling_Price\"]\n",
    "\n",
    "X_train, X_test, y_train, y_test = train_test_split(X, y, random_state=42)"
   ]
  },
  {
   "cell_type": "code",
   "execution_count": 11,
   "metadata": {},
   "outputs": [
    {
     "name": "stdout",
     "output_type": "stream",
     "text": [
      "(301, 8)\n",
      "(225, 8)\n"
     ]
    }
   ],
   "source": [
    "print(X.shape)\n",
    "print(X_train.shape)"
   ]
  },
  {
   "cell_type": "markdown",
   "metadata": {},
   "source": [
    "### *Compare and Contrast: Train-Test Split*\n",
    "\n",
    "What (if anything) was similar between this process and the previous process?  What (if anything) was different?"
   ]
  },
  {
   "cell_type": "code",
   "execution_count": null,
   "metadata": {},
   "outputs": [],
   "source": [
    "\"\"\"\n",
    "Previously we used all of the data, now we're splitting into train and test\n",
    "\n",
    "We're splitting the _records_ into a train and test set\n",
    "\n",
    "We're not getting rid of outliers\n",
    "\"\"\""
   ]
  },
  {
   "cell_type": "markdown",
   "metadata": {},
   "source": [
    "## Baseline Model: Linear Regression with Numeric Features Only\n",
    "\n",
    "We have four numeric features (`Year`, `Present_Price`, `Kms_Driven`, and `Owner`) and four non-numeric features (`Car_Name`, `Fuel_Type`, `Seller_Type`, `Transmission`).  Before doing any of the engineering work to be able to use those non-numeric features, let's just try using the numeric ones"
   ]
  },
  {
   "cell_type": "code",
   "execution_count": 8,
   "metadata": {},
   "outputs": [],
   "source": [
    "lin_reg_model = LinearRegression()\n",
    "\n",
    "X_train_numeric = X_train[[\"Year\", \"Present_Price\", \"Kms_Driven\", \"Owner\"]].copy()"
   ]
  },
  {
   "cell_type": "code",
   "execution_count": 20,
   "metadata": {},
   "outputs": [
    {
     "data": {
      "text/plain": [
       "array([0.67168559, 0.75626366, 0.88591659, 0.79241643, 0.84299344])"
      ]
     },
     "execution_count": 20,
     "metadata": {},
     "output_type": "execute_result"
    }
   ],
   "source": [
    "baseline_cross_val_score = cross_val_score(lin_reg_model, X_train_numeric, y_train, cv=5)\n",
    "baseline_cross_val_score"
   ]
  },
  {
   "cell_type": "code",
   "execution_count": null,
   "metadata": {},
   "outputs": [],
   "source": [
    "lin_reg_model."
   ]
  },
  {
   "cell_type": "markdown",
   "metadata": {},
   "source": [
    "Ok, not too bad, we are getting somewhere between 0.67 and 0.89 r-squared for a linear regression with just the numeric features"
   ]
  },
  {
   "cell_type": "markdown",
   "metadata": {},
   "source": [
    "### *Compare and Contrast: Baseline Model*\n",
    "\n",
    "What (if anything) was similar between this process and the previous process?  What (if anything) was different?"
   ]
  },
  {
   "cell_type": "code",
   "execution_count": null,
   "metadata": {},
   "outputs": [],
   "source": [
    "\"\"\"\n",
    "Didn't use StatsModels OLS, we used SciKit Learn LinearRegression\n",
    "\n",
    "Same: doing a ordinary least squares\n",
    "\n",
    "Potential difference: treating year as categorical vs. numeric\n",
    "\n",
    "Same: some kind of \"baseline\" model\n",
    "\n",
    "Different: how many features in baseline (1 vs. all numeric)\n",
    "\n",
    "Different: we're only using X_train, rather than all of X (only using some records)\n",
    "\n",
    "Different: how we evaluate the model\n",
    "- Mod 2 we looked at r-squared for the whole dataset\n",
    "- Mod 2 we also looked at assumptions and coefficients and p-values\n",
    "- Now we're still looking at r-squared, but r-squared of 5 different splits\n",
    "\"\"\""
   ]
  },
  {
   "cell_type": "markdown",
   "metadata": {},
   "source": [
    "## Add One-Hot Encoded Features\n",
    "\n",
    "Let's see if adding in some of those non-numeric features helps"
   ]
  },
  {
   "cell_type": "code",
   "execution_count": 14,
   "metadata": {},
   "outputs": [],
   "source": [
    "# resetting the index so we can concatenate the one-hot encoded dfs more easily\n",
    "X_train_all_features = X_train.copy().reset_index().drop(\"index\", axis=1)"
   ]
  },
  {
   "cell_type": "code",
   "execution_count": 15,
   "metadata": {},
   "outputs": [],
   "source": [
    "def encode_and_concat_feature_train(X_train_all_features, feature_name):\n",
    "    \"\"\"\n",
    "    Helper function for transforming training data.  It takes in the full X dataframe and\n",
    "    feature name, makes a one-hot encoder, and returns the encoder as well as the dataframe\n",
    "    with that feature transformed into multiple columns of 1s and 0s\n",
    "    \"\"\"\n",
    "    # make a one-hot encoder and fit it to the training data\n",
    "    ohe = OneHotEncoder(categories=\"auto\", handle_unknown=\"ignore\")\n",
    "    single_feature_df = X_train_all_features[[feature_name]]\n",
    "    ohe.fit(single_feature_df)\n",
    "    \n",
    "    # call helper function that actually encodes the feature and concats it\n",
    "    X_train_all_features = encode_and_concat_feature(X_train_all_features, feature_name, ohe)\n",
    "    \n",
    "    return ohe, X_train_all_features"
   ]
  },
  {
   "cell_type": "code",
   "execution_count": 16,
   "metadata": {},
   "outputs": [],
   "source": [
    "def encode_and_concat_feature(X, feature_name, ohe):\n",
    "    \"\"\"\n",
    "    Helper function for transforming a feature into multiple columns of 1s and 0s. Used\n",
    "    in both training and testing steps.  Takes in the full X dataframe, feature name, \n",
    "    and encoder, and returns the dataframe with that feature transformed into multiple\n",
    "    columns of 1s and 0s\n",
    "    \"\"\"\n",
    "    # create new one-hot encoded df based on the feature\n",
    "    single_feature_df = X[[feature_name]]\n",
    "    feature_array = ohe.transform(single_feature_df).toarray()\n",
    "    ohe_df = pd.DataFrame(feature_array, columns=ohe.categories_[0])\n",
    "    \n",
    "    # drop the old feature from X and concat the new one-hot encoded df\n",
    "    X = X.drop(feature_name, axis=1)\n",
    "    X = pd.concat([X, ohe_df], axis=1)\n",
    "    \n",
    "    return X"
   ]
  },
  {
   "cell_type": "code",
   "execution_count": 17,
   "metadata": {},
   "outputs": [],
   "source": [
    "# we will need each of these encoders later for transforming the test data\n",
    "\n",
    "fuel_type_ohe, X_train_all_features = encode_and_concat_feature_train(X_train_all_features, \"Fuel_Type\")\n",
    "seller_type_ohe, X_train_all_features = encode_and_concat_feature_train(X_train_all_features, \"Seller_Type\")\n",
    "transmission_ohe, X_train_all_features = encode_and_concat_feature_train(X_train_all_features, \"Transmission\")\n",
    "# putting car name at the end just because there are the most categories\n",
    "car_name_ohe, X_train_all_features = encode_and_concat_feature_train(X_train_all_features, \"Car_Name\")"
   ]
  },
  {
   "cell_type": "code",
   "execution_count": 18,
   "metadata": {},
   "outputs": [
    {
     "data": {
      "text/plain": [
       "Index(['Year', 'Present_Price', 'Kms_Driven', 'Owner', 'CNG', 'Diesel',\n",
       "       'Petrol', 'Dealer', 'Individual', 'Automatic', 'Manual', '800',\n",
       "       'Activa 3g', 'Bajaj  ct 100', 'Bajaj Avenger 150',\n",
       "       'Bajaj Avenger 150 street', 'Bajaj Avenger 220',\n",
       "       'Bajaj Avenger 220 dtsi', 'Bajaj Avenger Street 220',\n",
       "       'Bajaj Discover 100', 'Bajaj Discover 125', 'Bajaj Dominar 400',\n",
       "       'Bajaj Pulsar 135 LS', 'Bajaj Pulsar 150', 'Bajaj Pulsar 220 F',\n",
       "       'Bajaj Pulsar NS 200', 'Bajaj Pulsar RS200', 'Hero  Ignitor Disc',\n",
       "       'Hero Extreme', 'Hero Glamour', 'Hero Honda Passion Pro', 'Hero Hunk',\n",
       "       'Hero Passion Pro', 'Hero Passion X pro', 'Hero Splender Plus',\n",
       "       'Hero Splender iSmart', 'Hero Super Splendor', 'Honda Activa 4G',\n",
       "       'Honda CB Hornet 160R', 'Honda CB Shine', 'Honda CB Unicorn',\n",
       "       'Honda CB twister', 'Honda CBR 150', 'Honda Karizma', 'Hyosung GT250R',\n",
       "       'KTM 390 Duke ', 'KTM RC200', 'KTM RC390', 'Royal Enfield Bullet 350',\n",
       "       'Royal Enfield Classic 350', 'Royal Enfield Classic 500',\n",
       "       'Royal Enfield Thunder 350', 'Royal Enfield Thunder 500',\n",
       "       'Suzuki Access 125', 'TVS Apache RTR 160', 'TVS Apache RTR 180',\n",
       "       'TVS Jupyter', 'TVS Sport ', 'TVS Wego', 'Yamaha FZ  v 2.0',\n",
       "       'Yamaha FZ 16', 'Yamaha FZ S ', 'Yamaha FZ S V 2.0', 'alto 800',\n",
       "       'alto k10', 'amaze', 'baleno', 'brio', 'camry', 'ciaz', 'city',\n",
       "       'corolla altis', 'creta', 'dzire', 'elantra', 'eon', 'ertiga',\n",
       "       'etios cross', 'etios g', 'etios gd', 'etios liva', 'fortuner',\n",
       "       'grand i10', 'i10', 'i20', 'ignis', 'innova', 'jazz', 'land cruiser',\n",
       "       'omni', 'ritz', 'swift', 'sx4', 'verna', 'wagon r', 'xcent'],\n",
       "      dtype='object')"
      ]
     },
     "execution_count": 18,
     "metadata": {},
     "output_type": "execute_result"
    }
   ],
   "source": [
    "X_train_all_features.columns"
   ]
  },
  {
   "cell_type": "code",
   "execution_count": 19,
   "metadata": {},
   "outputs": [
    {
     "data": {
      "text/html": [
       "<div>\n",
       "<style scoped>\n",
       "    .dataframe tbody tr th:only-of-type {\n",
       "        vertical-align: middle;\n",
       "    }\n",
       "\n",
       "    .dataframe tbody tr th {\n",
       "        vertical-align: top;\n",
       "    }\n",
       "\n",
       "    .dataframe thead th {\n",
       "        text-align: right;\n",
       "    }\n",
       "</style>\n",
       "<table border=\"1\" class=\"dataframe\">\n",
       "  <thead>\n",
       "    <tr style=\"text-align: right;\">\n",
       "      <th></th>\n",
       "      <th>Year</th>\n",
       "      <th>Present_Price</th>\n",
       "      <th>Kms_Driven</th>\n",
       "      <th>Owner</th>\n",
       "      <th>CNG</th>\n",
       "      <th>Diesel</th>\n",
       "      <th>Petrol</th>\n",
       "      <th>Dealer</th>\n",
       "      <th>Individual</th>\n",
       "      <th>Automatic</th>\n",
       "      <th>...</th>\n",
       "      <th>innova</th>\n",
       "      <th>jazz</th>\n",
       "      <th>land cruiser</th>\n",
       "      <th>omni</th>\n",
       "      <th>ritz</th>\n",
       "      <th>swift</th>\n",
       "      <th>sx4</th>\n",
       "      <th>verna</th>\n",
       "      <th>wagon r</th>\n",
       "      <th>xcent</th>\n",
       "    </tr>\n",
       "  </thead>\n",
       "  <tbody>\n",
       "    <tr>\n",
       "      <th>0</th>\n",
       "      <td>2017</td>\n",
       "      <td>0.84</td>\n",
       "      <td>5000</td>\n",
       "      <td>0</td>\n",
       "      <td>0.0</td>\n",
       "      <td>0.0</td>\n",
       "      <td>1.0</td>\n",
       "      <td>0.0</td>\n",
       "      <td>1.0</td>\n",
       "      <td>0.0</td>\n",
       "      <td>...</td>\n",
       "      <td>0.0</td>\n",
       "      <td>0.0</td>\n",
       "      <td>0.0</td>\n",
       "      <td>0.0</td>\n",
       "      <td>0.0</td>\n",
       "      <td>0.0</td>\n",
       "      <td>0.0</td>\n",
       "      <td>0.0</td>\n",
       "      <td>0.0</td>\n",
       "      <td>0.0</td>\n",
       "    </tr>\n",
       "    <tr>\n",
       "      <th>1</th>\n",
       "      <td>2015</td>\n",
       "      <td>14.79</td>\n",
       "      <td>12900</td>\n",
       "      <td>0</td>\n",
       "      <td>0.0</td>\n",
       "      <td>0.0</td>\n",
       "      <td>1.0</td>\n",
       "      <td>1.0</td>\n",
       "      <td>0.0</td>\n",
       "      <td>1.0</td>\n",
       "      <td>...</td>\n",
       "      <td>0.0</td>\n",
       "      <td>0.0</td>\n",
       "      <td>0.0</td>\n",
       "      <td>0.0</td>\n",
       "      <td>0.0</td>\n",
       "      <td>0.0</td>\n",
       "      <td>0.0</td>\n",
       "      <td>0.0</td>\n",
       "      <td>0.0</td>\n",
       "      <td>0.0</td>\n",
       "    </tr>\n",
       "    <tr>\n",
       "      <th>2</th>\n",
       "      <td>2015</td>\n",
       "      <td>0.32</td>\n",
       "      <td>35000</td>\n",
       "      <td>0</td>\n",
       "      <td>0.0</td>\n",
       "      <td>0.0</td>\n",
       "      <td>1.0</td>\n",
       "      <td>0.0</td>\n",
       "      <td>1.0</td>\n",
       "      <td>0.0</td>\n",
       "      <td>...</td>\n",
       "      <td>0.0</td>\n",
       "      <td>0.0</td>\n",
       "      <td>0.0</td>\n",
       "      <td>0.0</td>\n",
       "      <td>0.0</td>\n",
       "      <td>0.0</td>\n",
       "      <td>0.0</td>\n",
       "      <td>0.0</td>\n",
       "      <td>0.0</td>\n",
       "      <td>0.0</td>\n",
       "    </tr>\n",
       "    <tr>\n",
       "      <th>3</th>\n",
       "      <td>2015</td>\n",
       "      <td>13.60</td>\n",
       "      <td>21780</td>\n",
       "      <td>0</td>\n",
       "      <td>0.0</td>\n",
       "      <td>0.0</td>\n",
       "      <td>1.0</td>\n",
       "      <td>1.0</td>\n",
       "      <td>0.0</td>\n",
       "      <td>0.0</td>\n",
       "      <td>...</td>\n",
       "      <td>0.0</td>\n",
       "      <td>0.0</td>\n",
       "      <td>0.0</td>\n",
       "      <td>0.0</td>\n",
       "      <td>0.0</td>\n",
       "      <td>0.0</td>\n",
       "      <td>0.0</td>\n",
       "      <td>0.0</td>\n",
       "      <td>0.0</td>\n",
       "      <td>0.0</td>\n",
       "    </tr>\n",
       "    <tr>\n",
       "      <th>4</th>\n",
       "      <td>2015</td>\n",
       "      <td>5.90</td>\n",
       "      <td>14465</td>\n",
       "      <td>0</td>\n",
       "      <td>0.0</td>\n",
       "      <td>0.0</td>\n",
       "      <td>1.0</td>\n",
       "      <td>1.0</td>\n",
       "      <td>0.0</td>\n",
       "      <td>0.0</td>\n",
       "      <td>...</td>\n",
       "      <td>0.0</td>\n",
       "      <td>0.0</td>\n",
       "      <td>0.0</td>\n",
       "      <td>0.0</td>\n",
       "      <td>0.0</td>\n",
       "      <td>0.0</td>\n",
       "      <td>0.0</td>\n",
       "      <td>0.0</td>\n",
       "      <td>0.0</td>\n",
       "      <td>0.0</td>\n",
       "    </tr>\n",
       "    <tr>\n",
       "      <th>...</th>\n",
       "      <td>...</td>\n",
       "      <td>...</td>\n",
       "      <td>...</td>\n",
       "      <td>...</td>\n",
       "      <td>...</td>\n",
       "      <td>...</td>\n",
       "      <td>...</td>\n",
       "      <td>...</td>\n",
       "      <td>...</td>\n",
       "      <td>...</td>\n",
       "      <td>...</td>\n",
       "      <td>...</td>\n",
       "      <td>...</td>\n",
       "      <td>...</td>\n",
       "      <td>...</td>\n",
       "      <td>...</td>\n",
       "      <td>...</td>\n",
       "      <td>...</td>\n",
       "      <td>...</td>\n",
       "      <td>...</td>\n",
       "      <td>...</td>\n",
       "    </tr>\n",
       "    <tr>\n",
       "      <th>220</th>\n",
       "      <td>2013</td>\n",
       "      <td>0.57</td>\n",
       "      <td>18000</td>\n",
       "      <td>0</td>\n",
       "      <td>0.0</td>\n",
       "      <td>0.0</td>\n",
       "      <td>1.0</td>\n",
       "      <td>0.0</td>\n",
       "      <td>1.0</td>\n",
       "      <td>0.0</td>\n",
       "      <td>...</td>\n",
       "      <td>0.0</td>\n",
       "      <td>0.0</td>\n",
       "      <td>0.0</td>\n",
       "      <td>0.0</td>\n",
       "      <td>0.0</td>\n",
       "      <td>0.0</td>\n",
       "      <td>0.0</td>\n",
       "      <td>0.0</td>\n",
       "      <td>0.0</td>\n",
       "      <td>0.0</td>\n",
       "    </tr>\n",
       "    <tr>\n",
       "      <th>221</th>\n",
       "      <td>2011</td>\n",
       "      <td>12.48</td>\n",
       "      <td>45000</td>\n",
       "      <td>0</td>\n",
       "      <td>0.0</td>\n",
       "      <td>1.0</td>\n",
       "      <td>0.0</td>\n",
       "      <td>1.0</td>\n",
       "      <td>0.0</td>\n",
       "      <td>0.0</td>\n",
       "      <td>...</td>\n",
       "      <td>0.0</td>\n",
       "      <td>0.0</td>\n",
       "      <td>0.0</td>\n",
       "      <td>0.0</td>\n",
       "      <td>0.0</td>\n",
       "      <td>0.0</td>\n",
       "      <td>0.0</td>\n",
       "      <td>0.0</td>\n",
       "      <td>0.0</td>\n",
       "      <td>0.0</td>\n",
       "    </tr>\n",
       "    <tr>\n",
       "      <th>222</th>\n",
       "      <td>2014</td>\n",
       "      <td>3.45</td>\n",
       "      <td>16500</td>\n",
       "      <td>1</td>\n",
       "      <td>0.0</td>\n",
       "      <td>0.0</td>\n",
       "      <td>1.0</td>\n",
       "      <td>0.0</td>\n",
       "      <td>1.0</td>\n",
       "      <td>0.0</td>\n",
       "      <td>...</td>\n",
       "      <td>0.0</td>\n",
       "      <td>0.0</td>\n",
       "      <td>0.0</td>\n",
       "      <td>0.0</td>\n",
       "      <td>0.0</td>\n",
       "      <td>0.0</td>\n",
       "      <td>0.0</td>\n",
       "      <td>0.0</td>\n",
       "      <td>0.0</td>\n",
       "      <td>0.0</td>\n",
       "    </tr>\n",
       "    <tr>\n",
       "      <th>223</th>\n",
       "      <td>2011</td>\n",
       "      <td>10.00</td>\n",
       "      <td>69341</td>\n",
       "      <td>0</td>\n",
       "      <td>0.0</td>\n",
       "      <td>0.0</td>\n",
       "      <td>1.0</td>\n",
       "      <td>1.0</td>\n",
       "      <td>0.0</td>\n",
       "      <td>0.0</td>\n",
       "      <td>...</td>\n",
       "      <td>0.0</td>\n",
       "      <td>0.0</td>\n",
       "      <td>0.0</td>\n",
       "      <td>0.0</td>\n",
       "      <td>0.0</td>\n",
       "      <td>0.0</td>\n",
       "      <td>0.0</td>\n",
       "      <td>0.0</td>\n",
       "      <td>0.0</td>\n",
       "      <td>0.0</td>\n",
       "    </tr>\n",
       "    <tr>\n",
       "      <th>224</th>\n",
       "      <td>2017</td>\n",
       "      <td>1.78</td>\n",
       "      <td>4000</td>\n",
       "      <td>0</td>\n",
       "      <td>0.0</td>\n",
       "      <td>0.0</td>\n",
       "      <td>1.0</td>\n",
       "      <td>0.0</td>\n",
       "      <td>1.0</td>\n",
       "      <td>0.0</td>\n",
       "      <td>...</td>\n",
       "      <td>0.0</td>\n",
       "      <td>0.0</td>\n",
       "      <td>0.0</td>\n",
       "      <td>0.0</td>\n",
       "      <td>0.0</td>\n",
       "      <td>0.0</td>\n",
       "      <td>0.0</td>\n",
       "      <td>0.0</td>\n",
       "      <td>0.0</td>\n",
       "      <td>0.0</td>\n",
       "    </tr>\n",
       "  </tbody>\n",
       "</table>\n",
       "<p>225 rows × 96 columns</p>\n",
       "</div>"
      ],
      "text/plain": [
       "     Year  Present_Price  Kms_Driven  Owner  CNG  Diesel  Petrol  Dealer  \\\n",
       "0    2017           0.84        5000      0  0.0     0.0     1.0     0.0   \n",
       "1    2015          14.79       12900      0  0.0     0.0     1.0     1.0   \n",
       "2    2015           0.32       35000      0  0.0     0.0     1.0     0.0   \n",
       "3    2015          13.60       21780      0  0.0     0.0     1.0     1.0   \n",
       "4    2015           5.90       14465      0  0.0     0.0     1.0     1.0   \n",
       "..    ...            ...         ...    ...  ...     ...     ...     ...   \n",
       "220  2013           0.57       18000      0  0.0     0.0     1.0     0.0   \n",
       "221  2011          12.48       45000      0  0.0     1.0     0.0     1.0   \n",
       "222  2014           3.45       16500      1  0.0     0.0     1.0     0.0   \n",
       "223  2011          10.00       69341      0  0.0     0.0     1.0     1.0   \n",
       "224  2017           1.78        4000      0  0.0     0.0     1.0     0.0   \n",
       "\n",
       "     Individual  Automatic  ...  innova  jazz  land cruiser  omni  ritz  \\\n",
       "0           1.0        0.0  ...     0.0   0.0           0.0   0.0   0.0   \n",
       "1           0.0        1.0  ...     0.0   0.0           0.0   0.0   0.0   \n",
       "2           1.0        0.0  ...     0.0   0.0           0.0   0.0   0.0   \n",
       "3           0.0        0.0  ...     0.0   0.0           0.0   0.0   0.0   \n",
       "4           0.0        0.0  ...     0.0   0.0           0.0   0.0   0.0   \n",
       "..          ...        ...  ...     ...   ...           ...   ...   ...   \n",
       "220         1.0        0.0  ...     0.0   0.0           0.0   0.0   0.0   \n",
       "221         0.0        0.0  ...     0.0   0.0           0.0   0.0   0.0   \n",
       "222         1.0        0.0  ...     0.0   0.0           0.0   0.0   0.0   \n",
       "223         0.0        0.0  ...     0.0   0.0           0.0   0.0   0.0   \n",
       "224         1.0        0.0  ...     0.0   0.0           0.0   0.0   0.0   \n",
       "\n",
       "     swift  sx4  verna  wagon r  xcent  \n",
       "0      0.0  0.0    0.0      0.0    0.0  \n",
       "1      0.0  0.0    0.0      0.0    0.0  \n",
       "2      0.0  0.0    0.0      0.0    0.0  \n",
       "3      0.0  0.0    0.0      0.0    0.0  \n",
       "4      0.0  0.0    0.0      0.0    0.0  \n",
       "..     ...  ...    ...      ...    ...  \n",
       "220    0.0  0.0    0.0      0.0    0.0  \n",
       "221    0.0  0.0    0.0      0.0    0.0  \n",
       "222    0.0  0.0    0.0      0.0    0.0  \n",
       "223    0.0  0.0    0.0      0.0    0.0  \n",
       "224    0.0  0.0    0.0      0.0    0.0  \n",
       "\n",
       "[225 rows x 96 columns]"
      ]
     },
     "execution_count": 19,
     "metadata": {},
     "output_type": "execute_result"
    }
   ],
   "source": [
    "X_train_all_features"
   ]
  },
  {
   "cell_type": "markdown",
   "metadata": {},
   "source": [
    "### *Compare and Contrast: One-Hot Encoding*\n",
    "\n",
    "What (if anything) was similar between this process and the previous process?  What (if anything) was different?"
   ]
  },
  {
   "cell_type": "code",
   "execution_count": null,
   "metadata": {},
   "outputs": [],
   "source": [
    "\"\"\"\n",
    "Possible difference: Functions for OHE of multiple variables without repeated code\n",
    "Possible difference: column labels for OHE categories \n",
    "\n",
    "Difference: didn't drop any columns\n",
    "\"\"\""
   ]
  },
  {
   "cell_type": "markdown",
   "metadata": {},
   "source": [
    "## Linear Regression with More Features"
   ]
  },
  {
   "cell_type": "code",
   "execution_count": 21,
   "metadata": {},
   "outputs": [
    {
     "name": "stdout",
     "output_type": "stream",
     "text": [
      "Old: [0.67168559 0.75626366 0.88591659 0.79241643 0.84299344]\n",
      "New: [ 5.37672694e-01 -7.38091761e+12  9.16586477e-01  7.58859065e-01\n",
      "  7.52699829e-01]\n"
     ]
    }
   ],
   "source": [
    "lin_reg_model = LinearRegression()\n",
    "\n",
    "print(\"Old:\", baseline_cross_val_score)\n",
    "print(\"New:\", cross_val_score(lin_reg_model, X_train_all_features, y_train))"
   ]
  },
  {
   "cell_type": "markdown",
   "metadata": {},
   "source": [
    "That looks worse.  What if we don't use the car name, and just use the categories with 1-3 values?"
   ]
  },
  {
   "cell_type": "code",
   "execution_count": 22,
   "metadata": {},
   "outputs": [
    {
     "data": {
      "text/html": [
       "<div>\n",
       "<style scoped>\n",
       "    .dataframe tbody tr th:only-of-type {\n",
       "        vertical-align: middle;\n",
       "    }\n",
       "\n",
       "    .dataframe tbody tr th {\n",
       "        vertical-align: top;\n",
       "    }\n",
       "\n",
       "    .dataframe thead th {\n",
       "        text-align: right;\n",
       "    }\n",
       "</style>\n",
       "<table border=\"1\" class=\"dataframe\">\n",
       "  <thead>\n",
       "    <tr style=\"text-align: right;\">\n",
       "      <th></th>\n",
       "      <th>Year</th>\n",
       "      <th>Present_Price</th>\n",
       "      <th>Kms_Driven</th>\n",
       "      <th>Owner</th>\n",
       "      <th>CNG</th>\n",
       "      <th>Diesel</th>\n",
       "      <th>Petrol</th>\n",
       "      <th>Dealer</th>\n",
       "      <th>Individual</th>\n",
       "      <th>Automatic</th>\n",
       "      <th>Manual</th>\n",
       "    </tr>\n",
       "  </thead>\n",
       "  <tbody>\n",
       "    <tr>\n",
       "      <th>0</th>\n",
       "      <td>2017</td>\n",
       "      <td>0.84</td>\n",
       "      <td>5000</td>\n",
       "      <td>0</td>\n",
       "      <td>0.0</td>\n",
       "      <td>0.0</td>\n",
       "      <td>1.0</td>\n",
       "      <td>0.0</td>\n",
       "      <td>1.0</td>\n",
       "      <td>0.0</td>\n",
       "      <td>1.0</td>\n",
       "    </tr>\n",
       "    <tr>\n",
       "      <th>1</th>\n",
       "      <td>2015</td>\n",
       "      <td>14.79</td>\n",
       "      <td>12900</td>\n",
       "      <td>0</td>\n",
       "      <td>0.0</td>\n",
       "      <td>0.0</td>\n",
       "      <td>1.0</td>\n",
       "      <td>1.0</td>\n",
       "      <td>0.0</td>\n",
       "      <td>1.0</td>\n",
       "      <td>0.0</td>\n",
       "    </tr>\n",
       "    <tr>\n",
       "      <th>2</th>\n",
       "      <td>2015</td>\n",
       "      <td>0.32</td>\n",
       "      <td>35000</td>\n",
       "      <td>0</td>\n",
       "      <td>0.0</td>\n",
       "      <td>0.0</td>\n",
       "      <td>1.0</td>\n",
       "      <td>0.0</td>\n",
       "      <td>1.0</td>\n",
       "      <td>0.0</td>\n",
       "      <td>1.0</td>\n",
       "    </tr>\n",
       "    <tr>\n",
       "      <th>3</th>\n",
       "      <td>2015</td>\n",
       "      <td>13.60</td>\n",
       "      <td>21780</td>\n",
       "      <td>0</td>\n",
       "      <td>0.0</td>\n",
       "      <td>0.0</td>\n",
       "      <td>1.0</td>\n",
       "      <td>1.0</td>\n",
       "      <td>0.0</td>\n",
       "      <td>0.0</td>\n",
       "      <td>1.0</td>\n",
       "    </tr>\n",
       "    <tr>\n",
       "      <th>4</th>\n",
       "      <td>2015</td>\n",
       "      <td>5.90</td>\n",
       "      <td>14465</td>\n",
       "      <td>0</td>\n",
       "      <td>0.0</td>\n",
       "      <td>0.0</td>\n",
       "      <td>1.0</td>\n",
       "      <td>1.0</td>\n",
       "      <td>0.0</td>\n",
       "      <td>0.0</td>\n",
       "      <td>1.0</td>\n",
       "    </tr>\n",
       "    <tr>\n",
       "      <th>...</th>\n",
       "      <td>...</td>\n",
       "      <td>...</td>\n",
       "      <td>...</td>\n",
       "      <td>...</td>\n",
       "      <td>...</td>\n",
       "      <td>...</td>\n",
       "      <td>...</td>\n",
       "      <td>...</td>\n",
       "      <td>...</td>\n",
       "      <td>...</td>\n",
       "      <td>...</td>\n",
       "    </tr>\n",
       "    <tr>\n",
       "      <th>220</th>\n",
       "      <td>2013</td>\n",
       "      <td>0.57</td>\n",
       "      <td>18000</td>\n",
       "      <td>0</td>\n",
       "      <td>0.0</td>\n",
       "      <td>0.0</td>\n",
       "      <td>1.0</td>\n",
       "      <td>0.0</td>\n",
       "      <td>1.0</td>\n",
       "      <td>0.0</td>\n",
       "      <td>1.0</td>\n",
       "    </tr>\n",
       "    <tr>\n",
       "      <th>221</th>\n",
       "      <td>2011</td>\n",
       "      <td>12.48</td>\n",
       "      <td>45000</td>\n",
       "      <td>0</td>\n",
       "      <td>0.0</td>\n",
       "      <td>1.0</td>\n",
       "      <td>0.0</td>\n",
       "      <td>1.0</td>\n",
       "      <td>0.0</td>\n",
       "      <td>0.0</td>\n",
       "      <td>1.0</td>\n",
       "    </tr>\n",
       "    <tr>\n",
       "      <th>222</th>\n",
       "      <td>2014</td>\n",
       "      <td>3.45</td>\n",
       "      <td>16500</td>\n",
       "      <td>1</td>\n",
       "      <td>0.0</td>\n",
       "      <td>0.0</td>\n",
       "      <td>1.0</td>\n",
       "      <td>0.0</td>\n",
       "      <td>1.0</td>\n",
       "      <td>0.0</td>\n",
       "      <td>1.0</td>\n",
       "    </tr>\n",
       "    <tr>\n",
       "      <th>223</th>\n",
       "      <td>2011</td>\n",
       "      <td>10.00</td>\n",
       "      <td>69341</td>\n",
       "      <td>0</td>\n",
       "      <td>0.0</td>\n",
       "      <td>0.0</td>\n",
       "      <td>1.0</td>\n",
       "      <td>1.0</td>\n",
       "      <td>0.0</td>\n",
       "      <td>0.0</td>\n",
       "      <td>1.0</td>\n",
       "    </tr>\n",
       "    <tr>\n",
       "      <th>224</th>\n",
       "      <td>2017</td>\n",
       "      <td>1.78</td>\n",
       "      <td>4000</td>\n",
       "      <td>0</td>\n",
       "      <td>0.0</td>\n",
       "      <td>0.0</td>\n",
       "      <td>1.0</td>\n",
       "      <td>0.0</td>\n",
       "      <td>1.0</td>\n",
       "      <td>0.0</td>\n",
       "      <td>1.0</td>\n",
       "    </tr>\n",
       "  </tbody>\n",
       "</table>\n",
       "<p>225 rows × 11 columns</p>\n",
       "</div>"
      ],
      "text/plain": [
       "     Year  Present_Price  Kms_Driven  Owner  CNG  Diesel  Petrol  Dealer  \\\n",
       "0    2017           0.84        5000      0  0.0     0.0     1.0     0.0   \n",
       "1    2015          14.79       12900      0  0.0     0.0     1.0     1.0   \n",
       "2    2015           0.32       35000      0  0.0     0.0     1.0     0.0   \n",
       "3    2015          13.60       21780      0  0.0     0.0     1.0     1.0   \n",
       "4    2015           5.90       14465      0  0.0     0.0     1.0     1.0   \n",
       "..    ...            ...         ...    ...  ...     ...     ...     ...   \n",
       "220  2013           0.57       18000      0  0.0     0.0     1.0     0.0   \n",
       "221  2011          12.48       45000      0  0.0     1.0     0.0     1.0   \n",
       "222  2014           3.45       16500      1  0.0     0.0     1.0     0.0   \n",
       "223  2011          10.00       69341      0  0.0     0.0     1.0     1.0   \n",
       "224  2017           1.78        4000      0  0.0     0.0     1.0     0.0   \n",
       "\n",
       "     Individual  Automatic  Manual  \n",
       "0           1.0        0.0     1.0  \n",
       "1           0.0        1.0     0.0  \n",
       "2           1.0        0.0     1.0  \n",
       "3           0.0        0.0     1.0  \n",
       "4           0.0        0.0     1.0  \n",
       "..          ...        ...     ...  \n",
       "220         1.0        0.0     1.0  \n",
       "221         0.0        0.0     1.0  \n",
       "222         1.0        0.0     1.0  \n",
       "223         0.0        0.0     1.0  \n",
       "224         1.0        0.0     1.0  \n",
       "\n",
       "[225 rows x 11 columns]"
      ]
     },
     "execution_count": 22,
     "metadata": {},
     "output_type": "execute_result"
    }
   ],
   "source": [
    "X_train_all_except_car_name = X_train_all_features[[\n",
    "                    \"Year\",\n",
    "                    \"Present_Price\",\n",
    "                    \"Kms_Driven\",\n",
    "                    \"Owner\",\n",
    "                    \"CNG\",\n",
    "                    \"Diesel\",\n",
    "                    \"Petrol\",\n",
    "                    \"Dealer\",\n",
    "                    \"Individual\",\n",
    "                    \"Automatic\",\n",
    "                    \"Manual\"\n",
    "                ]].copy()\n",
    "X_train_all_except_car_name"
   ]
  },
  {
   "cell_type": "code",
   "execution_count": 23,
   "metadata": {},
   "outputs": [
    {
     "name": "stdout",
     "output_type": "stream",
     "text": [
      "Old: [0.67168559 0.75626366 0.88591659 0.79241643 0.84299344]\n",
      "New: [0.71773298 0.65008625 0.92349676 0.81151078 0.88264199]\n"
     ]
    }
   ],
   "source": [
    "lin_reg_model = LinearRegression()\n",
    "\n",
    "print(\"Old:\", baseline_cross_val_score)\n",
    "print(\"New:\", cross_val_score(lin_reg_model, X_train_all_except_car_name, y_train))"
   ]
  },
  {
   "cell_type": "markdown",
   "metadata": {},
   "source": [
    "Ok, adding these categories improved r-squared for 4 out of 5 subsamples compared to just having numeric features, so let's keep them for our linear regression model"
   ]
  },
  {
   "cell_type": "code",
   "execution_count": 24,
   "metadata": {},
   "outputs": [],
   "source": [
    "best_linreg_cross_val_score = cross_val_score(lin_reg_model, X_train_all_except_car_name, y_train)"
   ]
  },
  {
   "cell_type": "markdown",
   "metadata": {},
   "source": [
    "### *Compare and Contrast: Linear Regression with More Features*\n",
    "\n",
    "What (if anything) was similar between this process and the previous process?  What (if anything) was different?"
   ]
  },
  {
   "cell_type": "code",
   "execution_count": null,
   "metadata": {},
   "outputs": [],
   "source": [
    "\"\"\"\n",
    "Same: looked at r-squared but not just r-squared\n",
    "\n",
    "Same: doing some feature engineering, trying different combinations of features\n",
    "(including removing features that don't help)\n",
    "\n",
    "Different: cross val score now, previously model summary\n",
    "\"\"\""
   ]
  },
  {
   "cell_type": "markdown",
   "metadata": {},
   "source": [
    "## Try a More Advanced Model\n",
    "\n",
    "It depends on our business case whether these numbers are sufficient.  We are explaining approximately somewhere between 65% and 92% of the variance in the sale price.  But let's try a more complicated model.\n",
    "\n",
    "First, just using the X_train values used in the linear regression:"
   ]
  },
  {
   "cell_type": "code",
   "execution_count": 25,
   "metadata": {},
   "outputs": [
    {
     "name": "stdout",
     "output_type": "stream",
     "text": [
      "Old: [0.71773298 0.65008625 0.92349676 0.81151078 0.88264199]\n",
      "New: [0.83102658 0.66532476 0.90650579 0.81714334 0.92862009]\n"
     ]
    }
   ],
   "source": [
    "random_forest_regressor_model_1 = RandomForestRegressor(n_estimators=10, random_state=42)\n",
    "\n",
    "print(\"Old:\", best_linreg_cross_val_score)\n",
    "print(\"New:\", cross_val_score(random_forest_regressor_model_1, X_train_all_except_car_name, y_train))"
   ]
  },
  {
   "cell_type": "markdown",
   "metadata": {},
   "source": [
    "Ok, this more-sophisticated model is performing slightly better on 4 of 5 subsamples than the best linear regression score.  Let's see what happens if we add the car names back in:"
   ]
  },
  {
   "cell_type": "code",
   "execution_count": 26,
   "metadata": {},
   "outputs": [
    {
     "name": "stdout",
     "output_type": "stream",
     "text": [
      "Old: [0.83102658 0.66532476 0.90650579 0.81714334 0.92862009]\n",
      "New: [0.8120682  0.7237103  0.90434184 0.80154837 0.92665771]\n"
     ]
    }
   ],
   "source": [
    "random_forest_regressor_model_2 = RandomForestRegressor(n_estimators=10, random_state=42)\n",
    "\n",
    "print(\"Old:\", cross_val_score(random_forest_regressor_model_1, X_train_all_except_car_name, y_train))\n",
    "print(\"New:\", cross_val_score(random_forest_regressor_model_2, X_train_all_features, y_train))"
   ]
  },
  {
   "cell_type": "markdown",
   "metadata": {},
   "source": [
    "Only one of the subsamples improved with adding this feature, and everything else got worse"
   ]
  },
  {
   "cell_type": "markdown",
   "metadata": {},
   "source": [
    "## Hyperparameter Tuning the More Advanced Model\n",
    "\n",
    "Let's add some more \"power\" to the random forest regressor, since it's running reasonably quickly right now"
   ]
  },
  {
   "cell_type": "code",
   "execution_count": 27,
   "metadata": {},
   "outputs": [
    {
     "name": "stdout",
     "output_type": "stream",
     "text": [
      "Old: [0.83102658 0.66532476 0.90650579 0.81714334 0.92862009]\n",
      "New: [0.85347083 0.72854389 0.90506631 0.83936817 0.93520377]\n"
     ]
    }
   ],
   "source": [
    "random_forest_regressor_model_3 = RandomForestRegressor(n_estimators=1000, random_state=42)\n",
    "\n",
    "print(\"Old:\", cross_val_score(random_forest_regressor_model_1, X_train_all_except_car_name, y_train))\n",
    "print(\"New:\", cross_val_score(random_forest_regressor_model_3, X_train_all_except_car_name, y_train))"
   ]
  },
  {
   "cell_type": "markdown",
   "metadata": {},
   "source": [
    "That marginally improved 4 of the 5 subsamples (but was significantly slower to run).  Let's try including the car name again:"
   ]
  },
  {
   "cell_type": "code",
   "execution_count": 28,
   "metadata": {},
   "outputs": [
    {
     "name": "stdout",
     "output_type": "stream",
     "text": [
      "Old: [0.85347083 0.72854389 0.90506631 0.83936817 0.93520377]\n",
      "New: [0.82470832 0.71709424 0.89251424 0.8456903  0.93846238]\n"
     ]
    }
   ],
   "source": [
    "random_forest_regressor_model_4 = RandomForestRegressor(n_estimators=1000, random_state=42)\n",
    "\n",
    "print(\"Old:\", cross_val_score(random_forest_regressor_model_3, X_train_all_except_car_name, y_train))\n",
    "print(\"New:\", cross_val_score(random_forest_regressor_model_4, X_train_all_features, y_train))"
   ]
  },
  {
   "cell_type": "markdown",
   "metadata": {},
   "source": [
    "Again, that didn't really seem to help.  So if we're stopping right now, we can say that the third random forest regressor is the best model."
   ]
  },
  {
   "cell_type": "markdown",
   "metadata": {},
   "source": [
    "### *Compare and Contrast: Hyperparameter Tuning*\n",
    "\n",
    "What (if anything) was similar between this process and the previous process?  What (if anything) was different?"
   ]
  },
  {
   "cell_type": "code",
   "execution_count": null,
   "metadata": {},
   "outputs": [],
   "source": [
    "\"\"\"\n",
    "Different: trying different models (not just linear regression)\n",
    "\n",
    "Same: trying different combinations of features\n",
    "\n",
    "Different: trying different hyperparameters\n",
    "\"\"\""
   ]
  },
  {
   "cell_type": "markdown",
   "metadata": {},
   "source": [
    "## Model Evaluation\n",
    "\n",
    "Now that we have chosen a best model, let's use the holdout set to see how well the final model does\n",
    "\n",
    "### Preprocessing to Use Test Data\n",
    "First, perform all of the same transformations on the test X that were performed on the train X"
   ]
  },
  {
   "cell_type": "code",
   "execution_count": 29,
   "metadata": {},
   "outputs": [
    {
     "data": {
      "text/html": [
       "<div>\n",
       "<style scoped>\n",
       "    .dataframe tbody tr th:only-of-type {\n",
       "        vertical-align: middle;\n",
       "    }\n",
       "\n",
       "    .dataframe tbody tr th {\n",
       "        vertical-align: top;\n",
       "    }\n",
       "\n",
       "    .dataframe thead th {\n",
       "        text-align: right;\n",
       "    }\n",
       "</style>\n",
       "<table border=\"1\" class=\"dataframe\">\n",
       "  <thead>\n",
       "    <tr style=\"text-align: right;\">\n",
       "      <th></th>\n",
       "      <th>Year</th>\n",
       "      <th>Present_Price</th>\n",
       "      <th>Kms_Driven</th>\n",
       "      <th>Owner</th>\n",
       "      <th>CNG</th>\n",
       "      <th>Diesel</th>\n",
       "      <th>Petrol</th>\n",
       "      <th>Dealer</th>\n",
       "      <th>Individual</th>\n",
       "      <th>Automatic</th>\n",
       "      <th>Manual</th>\n",
       "    </tr>\n",
       "  </thead>\n",
       "  <tbody>\n",
       "    <tr>\n",
       "      <th>0</th>\n",
       "      <td>2016</td>\n",
       "      <td>0.57</td>\n",
       "      <td>24000</td>\n",
       "      <td>0</td>\n",
       "      <td>0.0</td>\n",
       "      <td>0.0</td>\n",
       "      <td>1.0</td>\n",
       "      <td>0.0</td>\n",
       "      <td>1.0</td>\n",
       "      <td>1.0</td>\n",
       "      <td>0.0</td>\n",
       "    </tr>\n",
       "    <tr>\n",
       "      <th>1</th>\n",
       "      <td>2016</td>\n",
       "      <td>13.60</td>\n",
       "      <td>10980</td>\n",
       "      <td>0</td>\n",
       "      <td>0.0</td>\n",
       "      <td>0.0</td>\n",
       "      <td>1.0</td>\n",
       "      <td>1.0</td>\n",
       "      <td>0.0</td>\n",
       "      <td>0.0</td>\n",
       "      <td>1.0</td>\n",
       "    </tr>\n",
       "    <tr>\n",
       "      <th>2</th>\n",
       "      <td>2012</td>\n",
       "      <td>9.40</td>\n",
       "      <td>60000</td>\n",
       "      <td>0</td>\n",
       "      <td>0.0</td>\n",
       "      <td>1.0</td>\n",
       "      <td>0.0</td>\n",
       "      <td>1.0</td>\n",
       "      <td>0.0</td>\n",
       "      <td>0.0</td>\n",
       "      <td>1.0</td>\n",
       "    </tr>\n",
       "    <tr>\n",
       "      <th>3</th>\n",
       "      <td>2011</td>\n",
       "      <td>0.57</td>\n",
       "      <td>35000</td>\n",
       "      <td>1</td>\n",
       "      <td>0.0</td>\n",
       "      <td>0.0</td>\n",
       "      <td>1.0</td>\n",
       "      <td>0.0</td>\n",
       "      <td>1.0</td>\n",
       "      <td>0.0</td>\n",
       "      <td>1.0</td>\n",
       "    </tr>\n",
       "    <tr>\n",
       "      <th>4</th>\n",
       "      <td>2013</td>\n",
       "      <td>18.61</td>\n",
       "      <td>40001</td>\n",
       "      <td>0</td>\n",
       "      <td>0.0</td>\n",
       "      <td>0.0</td>\n",
       "      <td>1.0</td>\n",
       "      <td>1.0</td>\n",
       "      <td>0.0</td>\n",
       "      <td>0.0</td>\n",
       "      <td>1.0</td>\n",
       "    </tr>\n",
       "    <tr>\n",
       "      <th>...</th>\n",
       "      <td>...</td>\n",
       "      <td>...</td>\n",
       "      <td>...</td>\n",
       "      <td>...</td>\n",
       "      <td>...</td>\n",
       "      <td>...</td>\n",
       "      <td>...</td>\n",
       "      <td>...</td>\n",
       "      <td>...</td>\n",
       "      <td>...</td>\n",
       "      <td>...</td>\n",
       "    </tr>\n",
       "    <tr>\n",
       "      <th>71</th>\n",
       "      <td>2011</td>\n",
       "      <td>8.01</td>\n",
       "      <td>50000</td>\n",
       "      <td>0</td>\n",
       "      <td>0.0</td>\n",
       "      <td>0.0</td>\n",
       "      <td>1.0</td>\n",
       "      <td>1.0</td>\n",
       "      <td>0.0</td>\n",
       "      <td>1.0</td>\n",
       "      <td>0.0</td>\n",
       "    </tr>\n",
       "    <tr>\n",
       "      <th>72</th>\n",
       "      <td>2016</td>\n",
       "      <td>7.90</td>\n",
       "      <td>28569</td>\n",
       "      <td>0</td>\n",
       "      <td>0.0</td>\n",
       "      <td>0.0</td>\n",
       "      <td>1.0</td>\n",
       "      <td>1.0</td>\n",
       "      <td>0.0</td>\n",
       "      <td>0.0</td>\n",
       "      <td>1.0</td>\n",
       "    </tr>\n",
       "    <tr>\n",
       "      <th>73</th>\n",
       "      <td>2015</td>\n",
       "      <td>7.27</td>\n",
       "      <td>40534</td>\n",
       "      <td>0</td>\n",
       "      <td>0.0</td>\n",
       "      <td>0.0</td>\n",
       "      <td>1.0</td>\n",
       "      <td>1.0</td>\n",
       "      <td>0.0</td>\n",
       "      <td>0.0</td>\n",
       "      <td>1.0</td>\n",
       "    </tr>\n",
       "    <tr>\n",
       "      <th>74</th>\n",
       "      <td>2012</td>\n",
       "      <td>4.43</td>\n",
       "      <td>23709</td>\n",
       "      <td>0</td>\n",
       "      <td>0.0</td>\n",
       "      <td>0.0</td>\n",
       "      <td>1.0</td>\n",
       "      <td>1.0</td>\n",
       "      <td>0.0</td>\n",
       "      <td>0.0</td>\n",
       "      <td>1.0</td>\n",
       "    </tr>\n",
       "    <tr>\n",
       "      <th>75</th>\n",
       "      <td>2016</td>\n",
       "      <td>1.40</td>\n",
       "      <td>35000</td>\n",
       "      <td>0</td>\n",
       "      <td>0.0</td>\n",
       "      <td>0.0</td>\n",
       "      <td>1.0</td>\n",
       "      <td>0.0</td>\n",
       "      <td>1.0</td>\n",
       "      <td>0.0</td>\n",
       "      <td>1.0</td>\n",
       "    </tr>\n",
       "  </tbody>\n",
       "</table>\n",
       "<p>76 rows × 11 columns</p>\n",
       "</div>"
      ],
      "text/plain": [
       "    Year  Present_Price  Kms_Driven  Owner  CNG  Diesel  Petrol  Dealer  \\\n",
       "0   2016           0.57       24000      0  0.0     0.0     1.0     0.0   \n",
       "1   2016          13.60       10980      0  0.0     0.0     1.0     1.0   \n",
       "2   2012           9.40       60000      0  0.0     1.0     0.0     1.0   \n",
       "3   2011           0.57       35000      1  0.0     0.0     1.0     0.0   \n",
       "4   2013          18.61       40001      0  0.0     0.0     1.0     1.0   \n",
       "..   ...            ...         ...    ...  ...     ...     ...     ...   \n",
       "71  2011           8.01       50000      0  0.0     0.0     1.0     1.0   \n",
       "72  2016           7.90       28569      0  0.0     0.0     1.0     1.0   \n",
       "73  2015           7.27       40534      0  0.0     0.0     1.0     1.0   \n",
       "74  2012           4.43       23709      0  0.0     0.0     1.0     1.0   \n",
       "75  2016           1.40       35000      0  0.0     0.0     1.0     0.0   \n",
       "\n",
       "    Individual  Automatic  Manual  \n",
       "0          1.0        1.0     0.0  \n",
       "1          0.0        0.0     1.0  \n",
       "2          0.0        0.0     1.0  \n",
       "3          1.0        0.0     1.0  \n",
       "4          0.0        0.0     1.0  \n",
       "..         ...        ...     ...  \n",
       "71         0.0        1.0     0.0  \n",
       "72         0.0        0.0     1.0  \n",
       "73         0.0        0.0     1.0  \n",
       "74         0.0        0.0     1.0  \n",
       "75         1.0        0.0     1.0  \n",
       "\n",
       "[76 rows x 11 columns]"
      ]
     },
     "execution_count": 29,
     "metadata": {},
     "output_type": "execute_result"
    }
   ],
   "source": [
    "X_test_all_except_car_name = X_test.reset_index().drop([\"index\", \"Car_Name\"], axis=1)\n",
    "\n",
    "# fuel_type_ohe, seller_type_ohe, and transmission_ohe were fitted on the training data\n",
    "X_test_all_except_car_name = encode_and_concat_feature(X_test_all_except_car_name, \"Fuel_Type\", fuel_type_ohe)\n",
    "X_test_all_except_car_name = encode_and_concat_feature(X_test_all_except_car_name, \"Seller_Type\", seller_type_ohe)\n",
    "X_test_all_except_car_name = encode_and_concat_feature(X_test_all_except_car_name, \"Transmission\", transmission_ohe)\n",
    "\n",
    "X_test_all_except_car_name"
   ]
  },
  {
   "cell_type": "markdown",
   "metadata": {},
   "source": [
    "### Fitting and Scoring Final Model\n",
    "\n",
    "Fit our best model on all of the training data"
   ]
  },
  {
   "cell_type": "code",
   "execution_count": 30,
   "metadata": {},
   "outputs": [
    {
     "data": {
      "text/plain": [
       "RandomForestRegressor(bootstrap=True, ccp_alpha=0.0, criterion='mse',\n",
       "                      max_depth=None, max_features='auto', max_leaf_nodes=None,\n",
       "                      max_samples=None, min_impurity_decrease=0.0,\n",
       "                      min_impurity_split=None, min_samples_leaf=1,\n",
       "                      min_samples_split=2, min_weight_fraction_leaf=0.0,\n",
       "                      n_estimators=1000, n_jobs=None, oob_score=False,\n",
       "                      random_state=42, verbose=0, warm_start=False)"
      ]
     },
     "execution_count": 30,
     "metadata": {},
     "output_type": "execute_result"
    }
   ],
   "source": [
    "random_forest_regressor_model_3.fit(X_train_all_except_car_name, y_train)"
   ]
  },
  {
   "cell_type": "markdown",
   "metadata": {},
   "source": [
    "Score our best model on the test data"
   ]
  },
  {
   "cell_type": "code",
   "execution_count": 31,
   "metadata": {},
   "outputs": [
    {
     "data": {
      "text/plain": [
       "0.9706072528266274"
      ]
     },
     "execution_count": 31,
     "metadata": {},
     "output_type": "execute_result"
    }
   ],
   "source": [
    "random_forest_regressor_model_3.score(X_test_all_except_car_name, y_test)"
   ]
  },
  {
   "cell_type": "markdown",
   "metadata": {},
   "source": [
    "That's pretty good!  We have a model that is able to explain 97% of the variance in the car sale list prices\n",
    "\n",
    "### Fitting and Scoring Baseline Model\n",
    "\n",
    "Let's compare that to the baseline model:"
   ]
  },
  {
   "cell_type": "code",
   "execution_count": 32,
   "metadata": {},
   "outputs": [
    {
     "data": {
      "text/plain": [
       "LinearRegression(copy_X=True, fit_intercept=True, n_jobs=None, normalize=False)"
      ]
     },
     "execution_count": 32,
     "metadata": {},
     "output_type": "execute_result"
    }
   ],
   "source": [
    "lin_reg_model.fit(X_train_numeric, y_train)"
   ]
  },
  {
   "cell_type": "code",
   "execution_count": 33,
   "metadata": {},
   "outputs": [
    {
     "data": {
      "text/plain": [
       "0.8511933884353676"
      ]
     },
     "execution_count": 33,
     "metadata": {},
     "output_type": "execute_result"
    }
   ],
   "source": [
    "X_test_numeric = X_test[[\"Year\", \"Present_Price\", \"Kms_Driven\", \"Owner\"]].copy()\n",
    "\n",
    "lin_reg_model.score(X_test_numeric, y_test)"
   ]
  },
  {
   "cell_type": "markdown",
   "metadata": {},
   "source": [
    "So, our r-squared has improved from a baseline of 85% to 97%.\n",
    "\n",
    "### Other Metrics\n",
    "\n",
    "To report something more applicable to a business audience, let's calculate the [root mean squared error](https://en.wikipedia.org/wiki/Root-mean-square_deviation) using the [metrics submodule of scikit-learn](https://scikit-learn.org/stable/modules/model_evaluation.html#regression-metrics)"
   ]
  },
  {
   "cell_type": "code",
   "execution_count": 34,
   "metadata": {},
   "outputs": [
    {
     "data": {
      "text/plain": [
       "0.8075452595118476"
      ]
     },
     "execution_count": 34,
     "metadata": {},
     "output_type": "execute_result"
    }
   ],
   "source": [
    "from sklearn.metrics import mean_squared_error\n",
    "mse = mean_squared_error(y_test, random_forest_regressor_model_3.predict(X_test_all_except_car_name))\n",
    "mse"
   ]
  },
  {
   "cell_type": "code",
   "execution_count": 35,
   "metadata": {},
   "outputs": [
    {
     "data": {
      "text/plain": [
       "0.8986352204937483"
      ]
     },
     "execution_count": 35,
     "metadata": {},
     "output_type": "execute_result"
    }
   ],
   "source": [
    "rmse = np.sqrt(mse)\n",
    "rmse"
   ]
  },
  {
   "cell_type": "markdown",
   "metadata": {},
   "source": [
    "To interpret this: on average, our prediction of `Selling_Price` is off (either too high or too low) by about 0.9 lakh, i.e. about 90,000 rupees (about 1200 USD)\n",
    "\n",
    "Let's compare that to the baseline model:"
   ]
  },
  {
   "cell_type": "code",
   "execution_count": 36,
   "metadata": {},
   "outputs": [
    {
     "data": {
      "text/plain": [
       "2.021968848419496"
      ]
     },
     "execution_count": 36,
     "metadata": {},
     "output_type": "execute_result"
    }
   ],
   "source": [
    "baseline_mse = mean_squared_error(y_test, lin_reg_model.predict(X_test_numeric))\n",
    "np.sqrt(baseline_mse)"
   ]
  },
  {
   "cell_type": "markdown",
   "metadata": {},
   "source": [
    "So, the baseline model was off by about 2 lakh, i.e. about 200,000 rupees (about 2600 USD)\n",
    "\n",
    "### Visualization of Model Performance\n",
    "\n",
    "Also, here is a plot that shows the actual vs. predicted prices:"
   ]
  },
  {
   "cell_type": "code",
   "execution_count": 37,
   "metadata": {},
   "outputs": [
    {
     "data": {
      "image/png": "[encoded data removed]",
      "text/plain": [
       "<Figure size 864x432 with 2 Axes>"
      ]
     },
     "metadata": {
      "needs_background": "light"
     },
     "output_type": "display_data"
    }
   ],
   "source": [
    "fig, axes = plt.subplots(ncols=2, figsize=(12, 6))\n",
    "\n",
    "# Customize which model is actually being plotted\n",
    "axes[0].set_title(\"Baseline Regression Model Performance\")\n",
    "axes[0].scatter(y_test, lin_reg_model.predict(X_test_numeric),\n",
    "                alpha=0.5, label=\"model output\", color=\"green\")\n",
    "\n",
    "axes[1].set_title(\"Final Regression Model Performance\")\n",
    "axes[1].scatter(y_test, random_forest_regressor_model_3.predict(X_test_all_except_car_name),\n",
    "                alpha=0.5, label=\"model output\")\n",
    "\n",
    "# Same setup for both plots (x and y labels, line showing y=x)\n",
    "y_equals_x = np.linspace(0, 25)\n",
    "for ax in axes:\n",
    "    ax.set_xlabel(\"True Price (Lakhs)\")\n",
    "    ax.set_ylabel(\"Predicted Price (Lakhs)\")\n",
    "    ax.plot(y_equals_x, y_equals_x, label=\"predicted = actual\", color=\"black\")\n",
    "    ax.legend()"
   ]
  },
  {
   "cell_type": "markdown",
   "metadata": {},
   "source": [
    "### *Compare and Contrast: Model Evaluation*\n",
    "\n",
    "What (if anything) was similar between this process and the previous process?  What (if anything) was different?"
   ]
  },
  {
   "cell_type": "code",
   "execution_count": null,
   "metadata": {},
   "outputs": [],
   "source": [
    "\"\"\"\n",
    "Same: articulate a takeaway, make an argument for the performance of the model\n",
    "\n",
    "Different: now we have to preprocess the test data separately, because we're\n",
    "evaluating the model on the test data\n",
    "\n",
    "Different: no assumption checks, no reporting of coefficients, no statements\n",
    "about the relationship between the variables\n",
    "\n",
    "Different: line represents a perfect prediction, not the model line (simple linear regression)\n",
    "Potentially different: which axis has the true vs. predicted\n",
    "\"\"\""
   ]
  },
  {
   "cell_type": "code",
   "execution_count": null,
   "metadata": {},
   "outputs": [],
   "source": []
  }
 ],
 "metadata": {
  "kernelspec": {
   "display_name": "Python 3 (prework-labs)",
   "language": "python",
   "name": "prework-labs"
  },
  "language_info": {
   "codemirror_mode": {
    "name": "ipython",
    "version": 3
   },
   "file_extension": ".py",
   "mimetype": "text/x-python",
   "name": "python",
   "nbconvert_exporter": "python",
   "pygments_lexer": "ipython3",
   "version": "3.7.3"
  }
 },
 "nbformat": 4,
 "nbformat_minor": 4
}
